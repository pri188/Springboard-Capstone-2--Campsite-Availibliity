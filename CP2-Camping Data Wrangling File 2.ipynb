{
 "cells": [
  {
   "cell_type": "code",
   "execution_count": 416,
   "metadata": {},
   "outputs": [],
   "source": [
    "##1. Imports\n",
    "##Placing all the imports at the beginning of the notebook\n",
    "import pandas as pd\n"
   ]
  },
  {
   "cell_type": "markdown",
   "metadata": {},
   "source": [
    "1.2 Objectives \n",
    "a. Goal is to find out how many total regions are there?\n",
    "b. How many sites are there ?\n",
    "c. How many sites per Region are there?\n",
    "d. We are going to build one timeforecasting model per site?\n",
    "e. Find Null values per Region per site.\n"
   ]
  },
  {
   "cell_type": "code",
   "execution_count": null,
   "metadata": {},
   "outputs": [],
   "source": [
    "## 2. Data Collection\n",
    "\n",
    "# Load the data from the saved local directory in csv format\n",
    "\n",
    "usa_camping_data_23 = pd.read_csv('/Users/priyankapanhalkar/Documents/camping/reservation_2023.csv')\n"
   ]
  },
  {
   "cell_type": "code",
   "execution_count": null,
   "metadata": {},
   "outputs": [],
   "source": [
    "## 3. Data Definition\n",
    "\n",
    "#Call the info method on camping_data_23 to see a summary of the data\n",
    "\n",
    "\n",
    "usa_camping_data_23.info()\n",
    "usa_camping_data_23.describe()\n",
    "usa_camping_data_23.head(5)\n",
    "\n",
    "#To find the names of all columns due to truncated results\n",
    "selected_columns = usa_camping_data_23.iloc[:, [14,15,16,17,18,19, 20,21,22,23,24,25,26,27,28,29,30,31,32,33,34]]\n",
    "selected_columns.head(2)\n",
    "\n"
   ]
  },
  {
   "cell_type": "code",
   "execution_count": null,
   "metadata": {},
   "outputs": [],
   "source": [
    "#What columns are categorical and what are measureable\n",
    "categorical_columns = usa_camping_data_23.select_dtypes(include=['object', 'category']).columns\n",
    "print(\"Categorical columns:\", categorical_columns)"
   ]
  },
  {
   "cell_type": "code",
   "execution_count": null,
   "metadata": {},
   "outputs": [],
   "source": [
    "non_categorical_columns = usa_camping_data_23.select_dtypes(exclude=['object', 'category']).columns\n",
    "print(non_categorical_columns)  "
   ]
  },
  {
   "cell_type": "markdown",
   "metadata": {},
   "source": [
    "3.1 Find how many unique regioncodes, region and sites etc are there in the dataset\n"
   ]
  },
  {
   "cell_type": "code",
   "execution_count": null,
   "metadata": {},
   "outputs": [],
   "source": [
    "usa_camping_data_23.regioncode.unique()\n",
    "unique_regioncode = len(usa_camping_data_23['regioncode'].unique())\n",
    "print(unique_regioncode)"
   ]
  },
  {
   "cell_type": "code",
   "execution_count": null,
   "metadata": {},
   "outputs": [],
   "source": [
    "usa_camping_data_23.regiondescription.unique()\n",
    "unique_regiondescription = len(usa_camping_data_23['regiondescription'].unique())\n",
    "print(unique_regiondescription)"
   ]
  },
  {
   "cell_type": "code",
   "execution_count": null,
   "metadata": {},
   "outputs": [],
   "source": [
    "usa_camping_data_23.parentlocationid.unique()\n",
    "unique_parentlocationid = len(usa_camping_data_23['parentlocationid'].unique())\n",
    "print(unique_parentlocationid)"
   ]
  },
  {
   "cell_type": "code",
   "execution_count": null,
   "metadata": {},
   "outputs": [],
   "source": [
    "usa_camping_data_23.parentlocation.unique()\n",
    "unique_parentlocation = len(usa_camping_data_23['parentlocation'].unique())\n",
    "print(unique_parentlocation)"
   ]
  },
  {
   "cell_type": "code",
   "execution_count": null,
   "metadata": {},
   "outputs": [],
   "source": [
    "usa_camping_data_23.facilityid.unique()\n",
    "unique_facilityid = len(usa_camping_data_23['facilityid'].unique())\n",
    "print(unique_facilityid)"
   ]
  },
  {
   "cell_type": "markdown",
   "metadata": {},
   "source": [
    "a. There are 47 unique regioncodes\n",
    "b. There are 46 unique regiondescriptions\n",
    "c. There are 1077 unique parentlocationids\n",
    "d. There are 575 unique parentlocations\n",
    "e. there are 4744 unique facility Ids\n",
    "f. There are 22 categorical 13 non-categorical columns\n"
   ]
  },
  {
   "cell_type": "markdown",
   "metadata": {},
   "source": [
    "Find the null counts for each column"
   ]
  },
  {
   "cell_type": "code",
   "execution_count": null,
   "metadata": {},
   "outputs": [],
   "source": [
    "#Since Parentlocationid and parentlocation are not in consensus lets Find the null values in both to understand better whats is happening.\n",
    "null_count_parentlocation = usa_camping_data_23['parentlocation'].isnull().sum()\n",
    "print(null_count_parentlocation)"
   ]
  },
  {
   "cell_type": "code",
   "execution_count": null,
   "metadata": {},
   "outputs": [],
   "source": [
    "null_count_parentlocationid = usa_camping_data_23['parentlocationid'].isnull().sum()\n",
    "print(null_count_parentlocationid)"
   ]
  },
  {
   "cell_type": "markdown",
   "metadata": {},
   "source": [
    "Conclusion- Each parent location has multiple parent locations IDs. Also not all Parent location IDs are integers."
   ]
  },
  {
   "cell_type": "code",
   "execution_count": null,
   "metadata": {},
   "outputs": [],
   "source": [
    "#Print rows where parentlocationID is missing\n",
    "missing_parentlocationid_df=usa_camping_data_23[usa_camping_data_23['parentlocationid'].isnull()]\n",
    "print(missing_parentlocationid_df)\n"
   ]
  },
  {
   "cell_type": "code",
   "execution_count": null,
   "metadata": {},
   "outputs": [],
   "source": [
    "grouped_counts = usa_camping_data_23.groupby(['parentlocationid','parentlocation']).size()\n",
    "print(grouped_counts)"
   ]
  },
  {
   "cell_type": "code",
   "execution_count": null,
   "metadata": {},
   "outputs": [],
   "source": [
    "sorted_grouped_counts = pd.DataFrame(grouped_counts).sort_values(by=['parentlocationid','parentlocation'], ascending=[False,True])\n",
    "print(sorted_grouped_counts)"
   ]
  },
  {
   "cell_type": "code",
   "execution_count": null,
   "metadata": {},
   "outputs": [],
   "source": [
    "grouped_counts_parentlocation_by_parentlocationid = usa_camping_data_23.groupby(['parentlocation','parentlocationid']).size()\n",
    "print(grouped_counts_parentlocation_by_parentlocationid)"
   ]
  },
  {
   "cell_type": "code",
   "execution_count": null,
   "metadata": {},
   "outputs": [],
   "source": [
    "#Find relation between parentlocationIds and Region\n",
    "grouped_counts_parentlocationID_by_region = usa_camping_data_23.groupby(['regiondescription','parentlocationid']).size()\n",
    "print(grouped_counts_parentlocationID_by_region)"
   ]
  },
  {
   "cell_type": "code",
   "execution_count": null,
   "metadata": {},
   "outputs": [],
   "source": [
    "#Find relation between parentlocations and Region\n",
    "grouped_counts_parentlocation_by_region = usa_camping_data_23.groupby(['regiondescription','parentlocation']).size()\n",
    "print(grouped_counts_parentlocation_by_region)"
   ]
  },
  {
   "cell_type": "code",
   "execution_count": null,
   "metadata": {},
   "outputs": [],
   "source": [
    "#Find relation between parentlocationIds and facilityid\n",
    "grouped_counts_parentlocationID_by_facilityid = usa_camping_data_23.groupby(['facilityid','parentlocationid']).size()\n",
    "print(grouped_counts_parentlocationID_by_facilityid)"
   ]
  },
  {
   "cell_type": "code",
   "execution_count": null,
   "metadata": {},
   "outputs": [],
   "source": [
    "#Find relation between   facilityid  and parentlocationIds\n",
    "grouped_counts_facilityid_by_parentlocationid = usa_camping_data_23.groupby(['parentlocationid','facilityid']).size()\n",
    "print(grouped_counts_facilityid_by_parentlocationid)"
   ]
  },
  {
   "cell_type": "markdown",
   "metadata": {},
   "source": [
    "3.2 Find how many  unique sitetype, usetype, productid, inventorytype, facilityid, facilitystate, parentlocations,parentlocationIds  are there in the dataset\n",
    "a. There are 439 sitetypes\n",
    "b. There are 5 usetypes\n",
    "c. There are 94584 productids\n",
    "d. There are 14 inventorytypes\n",
    "e.There are 4744 facilityids\n",
    "f.There are 50 facilitystates\n",
    "g. There are 16 equipmentdescriptions\n",
    "h.There are 575  parentlocations\n",
    "i.There are 1077 parentlocationsIDs"
   ]
  },
  {
   "cell_type": "code",
   "execution_count": null,
   "metadata": {},
   "outputs": [],
   "source": [
    "usa_camping_data_23.legacyfacilityid.unique()\n",
    "usa_camping_data_23.legacyfacilityid.unique()\n",
    "unique_legacyfacilityid = len(usa_camping_data_23['legacyfacilityid'].unique())\n",
    "print(unique_legacyfacilityid)"
   ]
  },
  {
   "cell_type": "code",
   "execution_count": null,
   "metadata": {},
   "outputs": [],
   "source": [
    "usa_camping_data_23.parentlocation.unique()\n",
    "usa_camping_data_23.parentlocation.unique()\n",
    "unique_parentlocation = len(usa_camping_data_23['parentlocation'].unique())\n",
    "print(unique_parentlocation)"
   ]
  },
  {
   "cell_type": "code",
   "execution_count": null,
   "metadata": {},
   "outputs": [],
   "source": [
    "usa_camping_data_23.parentlocationid.unique()\n",
    "unique_parentlocationid = len(usa_camping_data_23['parentlocationid'].unique())\n",
    "print(unique_parentlocationid)"
   ]
  },
  {
   "cell_type": "code",
   "execution_count": null,
   "metadata": {},
   "outputs": [],
   "source": [
    "usa_camping_data_23.sitetype.unique()\n",
    "usa_camping_data_23.sitetype.unique()\n",
    "unique_sitetype = len(usa_camping_data_23['sitetype'].unique())\n",
    "print(unique_sitetype)"
   ]
  },
  {
   "cell_type": "code",
   "execution_count": null,
   "metadata": {},
   "outputs": [],
   "source": [
    "usa_camping_data_23.usetype.unique()\n",
    "unique_usetype = len(usa_camping_data_23['usetype'].unique())\n",
    "print(unique_usetype)"
   ]
  },
  {
   "cell_type": "code",
   "execution_count": null,
   "metadata": {},
   "outputs": [],
   "source": [
    "usa_camping_data_23.productid.unique()\n",
    "unique_productid = len(usa_camping_data_23['productid'].unique())\n",
    "print(unique_productid)"
   ]
  },
  {
   "cell_type": "code",
   "execution_count": null,
   "metadata": {},
   "outputs": [],
   "source": [
    "usa_camping_data_23.inventorytype.unique()\n",
    "unique_inventorytype = len(usa_camping_data_23['inventorytype'].unique())\n",
    "print(unique_inventorytype)"
   ]
  },
  {
   "cell_type": "code",
   "execution_count": null,
   "metadata": {},
   "outputs": [],
   "source": [
    "usa_camping_data_23.facilityid.unique()\n",
    "unique_facilityid = len(usa_camping_data_23['facilityid'].unique())\n",
    "print(unique_facilityid)"
   ]
  },
  {
   "cell_type": "code",
   "execution_count": null,
   "metadata": {},
   "outputs": [],
   "source": [
    "usa_camping_data_23.facilitystate.unique()\n",
    "unique_facilitystate = len(usa_camping_data_23['facilitystate'].unique())\n",
    "print(unique_facilitystate)"
   ]
  },
  {
   "cell_type": "code",
   "execution_count": null,
   "metadata": {},
   "outputs": [],
   "source": [
    "usa_camping_data_23.equipmentdescription.unique()\n",
    "unique_equipmentdescription = len(usa_camping_data_23['equipmentdescription'].unique())\n",
    "print(unique_equipmentdescription)"
   ]
  },
  {
   "cell_type": "markdown",
   "metadata": {},
   "source": [
    "#### Number of Missing Values in the entire dataset"
   ]
  },
  {
   "cell_type": "markdown",
   "metadata": {},
   "source": [
    "\n",
    "1. Find the percentage of Null Values in Regioncode, Regiondescription and SiteType  , Inventory type, equipment description\n"
   ]
  },
  {
   "cell_type": "code",
   "execution_count": null,
   "metadata": {},
   "outputs": [],
   "source": [
    "# Calculate the Percentage of null values in dataset\n",
    "null_percentage = usa_camping_data_23.isnull().mean() * 100\n",
    "print (null_percentage)"
   ]
  },
  {
   "cell_type": "code",
   "execution_count": null,
   "metadata": {},
   "outputs": [],
   "source": [
    "sorted_data = null_percentage.sort_values(ascending=False)\n",
    "print(sorted_data)"
   ]
  },
  {
   "cell_type": "markdown",
   "metadata": {},
   "source": [
    "Among the most required columns to answer our questions below are the columns which are missing most data\n",
    "1. Sitetype - 36.5%\n",
    "2. Usetype - 51.3%\n",
    "3. Number of people - 35.3%\n",
    "4. Equipment description - 57%\n",
    "\n",
    "Among the most required columns to answer our questions below are the columns which have most data\n",
    "1. Region code\n",
    "2. Region Description\n",
    "3. Parent location\n",
    "4. Inventorytype"
   ]
  },
  {
   "cell_type": "code",
   "execution_count": null,
   "metadata": {},
   "outputs": [],
   "source": [
    "# Calculate sum of null values in 'regiondescription' column\n",
    "\n",
    "null_count_regiondescription = usa_camping_data_23['regiondescription'].isnull().sum()\n",
    "print (null_count_regiondescription)\n",
    "\n",
    "\n",
    "# Calculate the Percentage of null values in regiondescription\n",
    "null_percentage_regiondescription = (usa_camping_data_23['regiondescription'].isnull().mean()) * 100\n",
    "print (null_percentage_regiondescription)\n"
   ]
  },
  {
   "cell_type": "code",
   "execution_count": null,
   "metadata": {},
   "outputs": [],
   "source": [
    "#Calculate sum of null values in 'regioncode' column\n",
    "\n",
    "null_count_regioncode = usa_camping_data_23['regioncode'].isnull().sum()\n",
    "print (null_count_regioncode)\n",
    "\n",
    "\n",
    "# Calculate the Percentage of null values in regioncode\n",
    "null_percentage_regioncode = (usa_camping_data_23['regioncode'].isnull().mean()) * 100\n",
    "print (null_percentage_regioncode)"
   ]
  },
  {
   "cell_type": "code",
   "execution_count": null,
   "metadata": {},
   "outputs": [],
   "source": [
    "#Calculate sum of null values in 'sitetype' column\n",
    "\n",
    "null_count_sitetype = usa_camping_data_23['sitetype'].isnull().sum()\n",
    "print (null_count_sitetype)\n",
    "\n",
    "\n",
    "# Calculate the Percentage of null values in sitetype\n",
    "null_percentage_sitetype = (usa_camping_data_23['sitetype'].isnull().mean()) * 100\n",
    "print (null_percentage_sitetype)"
   ]
  },
  {
   "cell_type": "code",
   "execution_count": null,
   "metadata": {},
   "outputs": [],
   "source": [
    "#null_percentage_by_region_inventorytype = usa_camping_data_23.groupby('regiondescription').apply(lambda x: x.apply(null_percentage))\n",
    "#print(null_percentage_by_group)\n",
    "\n",
    "def null_percentage(column):\n",
    "    return column.isnull().mean() * 100\n",
    "\n",
    "# Group by 'regiondescription' and calculate NULL percentage for 'inventorytype' column\n",
    "null_percentage_by_region_inventorytype = usa_camping_data_23.groupby('regiondescription')['inventorytype'].apply(null_percentage)\n",
    "print(null_percentage_by_region_inventorytype)"
   ]
  },
  {
   "cell_type": "code",
   "execution_count": null,
   "metadata": {},
   "outputs": [],
   "source": [
    "# Group by 'regiondescription' and calculate NULL percentage for 'sitetype' column\n",
    "null_percentage_by_region_sitetype = usa_camping_data_23.groupby('regiondescription')['sitetype'].apply(null_percentage)\n",
    "print(null_percentage_by_region_sitetype)"
   ]
  },
  {
   "cell_type": "markdown",
   "metadata": {},
   "source": [
    "Above results are aligned with previous findings of mean missing values"
   ]
  },
  {
   "cell_type": "code",
   "execution_count": null,
   "metadata": {},
   "outputs": [],
   "source": [
    "#calculate  how many sites are associated with each region\n",
    "\n",
    "grouped_sites_per_region = usa_camping_data_23.groupby(['regiondescription','sitetype']).size()\n",
    "print(grouped_sites_per_region)"
   ]
  },
  {
   "cell_type": "code",
   "execution_count": null,
   "metadata": {},
   "outputs": [],
   "source": [
    "#calculate  how many equipmentdescription are associated with each region\n",
    "\n",
    "grouped_equipmentdescription_per_region = usa_camping_data_23.groupby(['regiondescription','equipmentdescription']).size()\n",
    "print(grouped_equipmentdescription_per_region)"
   ]
  },
  {
   "cell_type": "code",
   "execution_count": null,
   "metadata": {},
   "outputs": [],
   "source": [
    "#calculate  how many regions are associated with each State\n",
    "\n",
    "grouped_regions_per_state = usa_camping_data_23.groupby(['facilitystate','regiondescription']).size()\n",
    "print(grouped_regions_per_state)"
   ]
  },
  {
   "cell_type": "code",
   "execution_count": null,
   "metadata": {},
   "outputs": [],
   "source": [
    "#calculate  how many facilityids are associated with each facilityState\n",
    "\n",
    "grouped_facilityid_per_state = usa_camping_data_23.groupby(['facilitystate','facilityid']).size()\n",
    "print(grouped_facilityid_per_state)"
   ]
  },
  {
   "cell_type": "code",
   "execution_count": null,
   "metadata": {},
   "outputs": [],
   "source": [
    "#calculate  how many facilityids are associated with each Regiondescription\n",
    "grouped_facilityid_per_region = usa_camping_data_23.groupby(['regiondescription','facilityid']).size()\n",
    "print(grouped_facilityid_per_region)"
   ]
  },
  {
   "cell_type": "code",
   "execution_count": null,
   "metadata": {},
   "outputs": [],
   "source": [
    "#calculate  how many regions are associated with each facilityID\n",
    "grouped_facilityid_per_regiondescription= usa_camping_data_23.groupby(['facilityid','regiondescription']).size()\n",
    "print(grouped_facilityid_per_regiondescription)"
   ]
  },
  {
   "cell_type": "markdown",
   "metadata": {},
   "source": [
    "The above analysis suggests that Each Region Description has multiple FacilityIds"
   ]
  },
  {
   "cell_type": "code",
   "execution_count": null,
   "metadata": {},
   "outputs": [],
   "source": [
    "#calculate  how many facilityid are associated with each Sitetype\n",
    "grouped_sitetype_per_facilityid= usa_camping_data_23.groupby(['facilityid','sitetype']).size()\n",
    "print(grouped_sitetype_per_facilityid)"
   ]
  },
  {
   "cell_type": "code",
   "execution_count": null,
   "metadata": {},
   "outputs": [],
   "source": [
    "grouped_sitetype_per_facilityid.head()"
   ]
  },
  {
   "cell_type": "markdown",
   "metadata": {},
   "source": [
    "We can conclude that one facilityid has multiple sitetypes"
   ]
  },
  {
   "cell_type": "code",
   "execution_count": null,
   "metadata": {},
   "outputs": [],
   "source": [
    "#calculate  how many facilityid are associated with each Sitetype\n",
    "grouped_facilityid_per_sitetype= usa_camping_data_23.groupby(['sitetype','facilityid']).size()\n",
    "print(grouped_facilityid_per_sitetype)"
   ]
  },
  {
   "cell_type": "code",
   "execution_count": null,
   "metadata": {},
   "outputs": [],
   "source": [
    "duplicates = grouped_facilityid_per_sitetype[grouped_facilityid_per_sitetype.duplicated()]\n",
    "print(duplicates)"
   ]
  },
  {
   "cell_type": "code",
   "execution_count": null,
   "metadata": {},
   "outputs": [],
   "source": [
    "duplicates_sitetypes = grouped_sitetype_per_facilityid[grouped_sitetype_per_facilityid.duplicated()]\n",
    "print(duplicates_sitetypes)"
   ]
  },
  {
   "cell_type": "code",
   "execution_count": null,
   "metadata": {},
   "outputs": [],
   "source": [
    "#calculate how many facilityid are associated with each equipmentdescription\n",
    "grouped_equipmentdescription_per_facilityid= usa_camping_data_23.groupby(['facilityid','equipmentdescription']).size()\n",
    "print(grouped_equipmentdescription_per_facilityid)"
   ]
  },
  {
   "cell_type": "markdown",
   "metadata": {},
   "source": [
    "#Find the missing Values for each column.\n",
    "1. Goal is to bring one model per site\n",
    "2. Find NULL percentage for regions, Site type\n",
    "3. Time Resolution - Is the information daily or weekly or Monthly\n",
    "4. Number of dimensions- Number of regions, number of sites, data timeline is collected daily, weekly, monthly?\n",
    "\n",
    "output from the recording\n",
    "1. Find the NULL values (missing data) per site - meaning how many other columns are missing per site.\n",
    "2. How many Sites per region. (Lets find how many camping - inventory )\n",
    "3. Produce a df as region, site, all columns in dataset , number of missing values for that columns per region per site.\n",
    "4. What columns are categorical what are not categorical..?\n",
    "5. categorical columns means things that refer to classes."
   ]
  },
  {
   "cell_type": "code",
   "execution_count": null,
   "metadata": {},
   "outputs": [],
   "source": [
    "# Lets calculate how many Inventory types per region\n",
    "grouped_inventorytype_per_region= usa_camping_data_23.groupby(['regiondescription','inventorytype']).size()\n",
    "print(grouped_inventorytype_per_region)"
   ]
  },
  {
   "cell_type": "code",
   "execution_count": 466,
   "metadata": {},
   "outputs": [],
   "source": [
    "# create a dataframe for grouping by region and inventory type\n",
    "grouped_region_by_inventorytype_df = usa_camping_data_23.groupby(['regiondescription', 'inventorytype'])\n",
    "grouped_region_by_inventorytype_df.head(6)\n",
    "grouped_region_by_inventorytype_create_df = pd.DataFrame(grouped_region_by_inventorytype_df)\n",
    "grouped_region_by_inventorytype_create_df.to_csv(\"grouped_region_by_inventorytype_create_df.csv\")"
   ]
  },
  {
   "cell_type": "markdown",
   "metadata": {},
   "source": [
    "Create dataframes by grouping on Region and then Inventory type , further on calculate the missing percentage, min,max and std for each numerical columns."
   ]
  },
  {
   "cell_type": "code",
   "execution_count": null,
   "metadata": {},
   "outputs": [],
   "source": [
    "\n",
    "def count_with_nan(x):\n",
    "    return x.isna().mean() * 100\n",
    "\n",
    "df_totalbeforetax_agg= usa_camping_data_23[['regiondescription', 'inventorytype', 'totalbeforetax']].head(100000).groupby(by=['regiondescription', 'inventorytype']).agg(\n",
    "           totalbeforetax_isnull=('totalbeforetax', count_with_nan),\n",
    "           totalbeforetax_min=('totalbeforetax', 'min'),\n",
    "           totalbeforetax_max=('totalbeforetax', 'max'),\n",
    "           totalbeforetax_std=('totalbeforetax', 'std'))\n",
    "print(df_totalbeforetax_agg)"
   ]
  },
  {
   "cell_type": "code",
   "execution_count": null,
   "metadata": {},
   "outputs": [],
   "source": [
    "df_number_of_people_agg= usa_camping_data_23[['regiondescription', 'inventorytype', 'numberofpeople']].head(100000).groupby(by=['regiondescription', 'inventorytype']) .agg(\n",
    "           numberofpeople_isnull=('numberofpeople', count_with_nan),\n",
    "           numberofpeople_min=('numberofpeople', 'min'),\n",
    "           numberofpeople_max=('numberofpeople', 'max'),\n",
    "           numberofpeople_std=('numberofpeople', 'std'))\n",
    "\n",
    "print(df_number_of_people_agg)"
   ]
  },
  {
   "cell_type": "code",
   "execution_count": null,
   "metadata": {},
   "outputs": [],
   "source": [
    "df_legacyfacilityid_agg= usa_camping_data_23[['regiondescription', 'inventorytype', 'legacyfacilityid']].head(100000).groupby(by=['regiondescription', 'inventorytype']) .agg(\n",
    "           legacyfacilityid_isnull=('legacyfacilityid', count_with_nan),\n",
    "           legacyfacilityid_min=('legacyfacilityid', 'min'),\n",
    "           legacyfacilityid_max=('legacyfacilityid', 'max'),\n",
    "           legacyfacilityid_std=('legacyfacilityid', 'std'))\n",
    "\n",
    "print(df_legacyfacilityid_agg)"
   ]
  },
  {
   "cell_type": "markdown",
   "metadata": {},
   "source": [
    "Create dataframes by grouping on Region and then Inventory type , further unique values of categorical columns and there sum."
   ]
  },
  {
   "cell_type": "code",
   "execution_count": null,
   "metadata": {},
   "outputs": [],
   "source": [
    "# Explore creating dataframes by grouping on Region and Inventory type and counting the frequency for unique values of sitetype\n",
    "counts_unique_sitetype_df = pd.DataFrame(usa_camping_data_23.groupby(['regiondescription', 'inventorytype'])['sitetype'].value_counts())\n",
    "counts_unique_sitetype_df.head(100)\n",
    "#counts_unique_sitetype_df.to_csv (\"counts_unique_sitetype_for region_inventorytype_df.csv\")"
   ]
  },
  {
   "cell_type": "code",
   "execution_count": null,
   "metadata": {},
   "outputs": [],
   "source": [
    "#Explore creating dataframes by grouping on Region and Inventory type and counting the frequency for unique values of usetype\n",
    "counts_unique_usetype_df = pd.DataFrame(usa_camping_data_23.groupby(['regiondescription', 'inventorytype'])['usetype'].value_counts())\n",
    "counts_unique_usetype_df.head(10)\n",
    "#counts_unique_usetype_df.to_csv (\"counts_unique_usetype_for region_inventorytype_df.csv\")"
   ]
  },
  {
   "cell_type": "code",
   "execution_count": null,
   "metadata": {},
   "outputs": [],
   "source": [
    "#Explore creating dataframes by grouping on Region and Inventory type and counting the frequency for unique values of facilitystate\n",
    "counts_unique_facilitystate_df = pd.DataFrame(usa_camping_data_23.groupby(['regiondescription', 'inventorytype'])['facilitystate'].value_counts())\n",
    "counts_unique_facilitystate_df.head(10)\n",
    "#counts_unique_facilitystate_df.to_csv (\"counts_unique_facilitystate_for region_inventorytype_df.csv\")"
   ]
  },
  {
   "cell_type": "code",
   "execution_count": null,
   "metadata": {},
   "outputs": [],
   "source": [
    "#Explore creating dataframes by grouping on Region and Inventory type and counting the frequency for unique values of orderdate\n",
    "counts_unique_orderdate_df = pd.DataFrame(usa_camping_data_23.groupby(['regiondescription', 'inventorytype'])['orderdate'].value_counts())\n",
    "counts_unique_orderdate_df.head(100)\n",
    "#counts_unique_orderdate_df.to_csv (\"counts_unique_orderdate_for region_orderdate_df.csv\")"
   ]
  },
  {
   "cell_type": "code",
   "execution_count": null,
   "metadata": {},
   "outputs": [],
   "source": [
    "#Explore creating dataframes by grouping on Region and Inventory type and counting the frequency for unique values of sitetype\n",
    "counts_unique_sitetype_orderdate_df = pd.DataFrame(usa_camping_data_23.groupby(['regiondescription', 'sitetype'])['orderdate'].value_counts())\n",
    "counts_unique_sitetype_orderdate_df.head(100)\n",
    "#counts_unique_sitetype_df.to_csv (\"counts_unique_orderdate_for region_sitetype_df.csv\")"
   ]
  },
  {
   "cell_type": "code",
   "execution_count": null,
   "metadata": {},
   "outputs": [],
   "source": [
    "#Explore creating dataframes by grouping on Region and Inventory type and counting the frequency for unique values of nights\n",
    "counts_unique_nights_df = pd.DataFrame(usa_camping_data_23.groupby(['regiondescription', 'inventorytype'])['nights'].value_counts())\n",
    "counts_unique_nights_df.head(100)\n",
    "#counts_unique_nights_df.to_csv (\"counts_unique_nights_for region_inventorytype_df.csv\")"
   ]
  },
  {
   "cell_type": "code",
   "execution_count": null,
   "metadata": {},
   "outputs": [],
   "source": [
    "#Explore creating dataframes by grouping on Region and Inventory type and counting the frequency for unique values of nights\n",
    "counts_regions_inventorytype_orderdate_df = pd.DataFrame(usa_camping_data_23.groupby(['regiondescription', 'inventorytype'])['orderdate'].value_counts())\n",
    "counts_regions_inventorytype_orderdate_df.head(100)\n",
    "#counts_unique_nights_df.to_csv (\"counts_unique_nights_for region_inventorytype_df.csv\")"
   ]
  },
  {
   "cell_type": "code",
   "execution_count": null,
   "metadata": {},
   "outputs": [],
   "source": [
    "#Lets find how the data is organized with respect to time. Find the difference between orderdate and starttime and group by region description and inventory type\n",
    "usa_camping_data_23['order_timestamp'] = pd.to_datetime(usa_camping_data_23['orderdate'], errors='coerce')\n",
    "usa_camping_data_23['start_timestamp'] = pd.to_datetime(usa_camping_data_23['startdate'], errors='coerce')\n",
    "usa_camping_data_23['difference'] = (usa_camping_data_23['start_timestamp'] - usa_camping_data_23['order_timestamp']).dt.days\n",
    "#print(usa_camping_data_23['difference'].head(10))\n",
    "\n",
    "# Group by 'Category' and count occurrences of each unique difference\n",
    "difference_count = usa_camping_data_23.groupby(['regiondescription', 'inventorytype']).agg(\n",
    "           difference_isnull=('difference', count_with_nan),\n",
    "           difference_min=('difference', 'min'),\n",
    "           difference_max=('difference', 'max'),\n",
    "           difference_mean=('difference', 'mean'),\n",
    "           difference_std=('difference', 'std'))\n",
    "print(difference_count)"
   ]
  },
  {
   "cell_type": "markdown",
   "metadata": {},
   "source": [
    "All the code below is filtered for camping and lottery camping Inventory type.\n"
   ]
  },
  {
   "cell_type": "code",
   "execution_count": null,
   "metadata": {},
   "outputs": [],
   "source": [
    "#Lets Create a dataframe and filter data for camping and lottery camping for all regions\n",
    "camping_inventory_df = usa_camping_data_23[usa_camping_data_23['inventorytype'].isin(['CAMPING', 'LOTTERY_CAMPING'])]\n",
    "camping_inventory_df.head(10)\n",
    "camping_inventory_df.describe()\n",
    "camping_inventory_df.info()\n"
   ]
  },
  {
   "cell_type": "code",
   "execution_count": null,
   "metadata": {},
   "outputs": [],
   "source": [
    "num_rows = len(camping_inventory_df)\n",
    "print(num_rows)\n"
   ]
  },
  {
   "cell_type": "code",
   "execution_count": null,
   "metadata": {},
   "outputs": [],
   "source": [
    "# Create a csv File from a dataframe for camping and Lottery Camping (Inventory type) for all regions.\n",
    "''''\n",
    "camping_inventory_df.to_csv(\"All_regions_camping.csv\")'''"
   ]
  },
  {
   "cell_type": "code",
   "execution_count": null,
   "metadata": {},
   "outputs": [],
   "source": [
    "# Produce a df as region, site, all columns in dataset, number of missing values for that columns per region per site\n",
    "\n",
    "columns_of_interest = ['parentlocationid', 'parentlocation',\n",
    "       'park', 'sitetype', 'usetype', 'productid', 'inventorytype',\n",
    "       'facilityid', 'facilitystate', 'customerzip', 'totalpaid', 'startdate',\n",
    "       'enddate', 'orderdate', 'nights', 'equipmentdescription']\n",
    "missing_counts = camping_inventory_df[columns_of_interest].isnull().groupby(camping_inventory_df['regiondescription']).sum()\n",
    "print(missing_counts)\n"
   ]
  },
  {
   "cell_type": "code",
   "execution_count": null,
   "metadata": {},
   "outputs": [],
   "source": [
    "missing_any_count = camping_inventory_df.groupby(['regiondescription', 'inventorytype']).apply(lambda x: x[['parentlocationid', 'parentlocation',\n",
    "       'park', 'sitetype', 'usetype', 'productid', 'inventorytype',\n",
    "       'facilityid', 'facilitystate', 'customerzip', 'totalpaid', 'startdate',\n",
    "       'enddate', 'orderdate', 'nights', 'equipmentdescription']].isnull().any(axis=1).sum())\n",
    "print(missing_any_count)\n",
    "\n"
   ]
  },
  {
   "cell_type": "code",
   "execution_count": null,
   "metadata": {},
   "outputs": [],
   "source": [
    "df = pd.DataFrame(camping_inventory_df)\n",
    "\n",
    "# Define the columns you want to check for missing values\n",
    "columns_to_check = ['parentlocationid', 'parentlocation',\n",
    "       'park', 'sitetype', 'usetype', 'productid',\n",
    "       'facilityid', 'facilitystate', 'customerzip', 'totalpaid', 'startdate',\n",
    "       'enddate', 'orderdate', 'nights', 'equipmentdescription']\n",
    "\n",
    "# Create a mask for missing values in these columns\n",
    "missing_mask = df[columns_to_check].isnull()\n",
    "\n",
    "# Group by 'regiondescription' and 'inventorytype' and calculate the percentage of missing values\n",
    "missing_percentage_for_camping_inventory = (\n",
    "    missing_mask.groupby([df['regiondescription'], df['inventorytype']])\n",
    "    .mean() * 100\n",
    ")\n",
    "\n",
    "print(missing_percentage_for_camping_inventory)\n",
    "missing_percentage_for_camping_inventory.head(5)"
   ]
  },
  {
   "cell_type": "code",
   "execution_count": null,
   "metadata": {},
   "outputs": [],
   "source": [
    "missing_percentage_for_camping_inventory.head(5)"
   ]
  },
  {
   "cell_type": "code",
   "execution_count": 485,
   "metadata": {},
   "outputs": [],
   "source": [
    "#Create a dataframe for missing_percentage_for_camping_inventory\n",
    "missing_percentage_for_camping_inventory_df = pd.DataFrame(missing_percentage_for_camping_inventory)\n",
    "#Create a csv file for missing_percentage_for_camping_inventory\n",
    "missing_percentage_for_camping_inventory.to_csv(\"missing_percentage_for_camping_inventory.csv\")"
   ]
  },
  {
   "cell_type": "code",
   "execution_count": null,
   "metadata": {},
   "outputs": [],
   "source": [
    "#Lets find how the data is organized with respect to time. Find the difference between orderdate and starttime and group by \n",
    "# region description and inventory type for only camoing inventory dataframe instead of entire dataset with all inventory types as above.\n",
    "camping_inventory_df['order_timestamp'] = pd.to_datetime(camping_inventory_df['orderdate'], errors='coerce')\n",
    "camping_inventory_df['start_timestamp'] = pd.to_datetime(usa_camping_data_23['startdate'], errors='coerce')\n",
    "camping_inventory_df['difference'] = (camping_inventory_df['start_timestamp'] - camping_inventory_df['order_timestamp']).dt.days\n",
    "#print(usa_camping_data_23['difference'].head(10))\n",
    "\n",
    "# Group by 'Category' and count occurrences of each unique difference\n",
    "difference_count_camping = camping_inventory_df.groupby(['regiondescription', 'inventorytype']).agg(\n",
    "           difference_mean=('difference', 'mean'),\n",
    "           difference_std=('difference', 'std'))\n",
    "print(difference_count_camping)"
   ]
  },
  {
   "cell_type": "markdown",
   "metadata": {},
   "source": [
    "Summary\n",
    "1. There is booking data for 50 states from recreation.gov website for year 2023. It includes total 35 columns and about 8984097 rows. \n",
    "   Various columns associated are regions description, Parent location Ids, Site types,USer type, inventory typefacility Ids, equipment  \n",
    "   descriptions, number of people visited, total paid and many more.\n",
    "2. Total there are 22 categorical and 13 non-categorical columns.\n",
    "3. Each column has either one to one or one-many relationship associated with each other. eg. Region code and Region Description are one to \n",
    "   one relation. Multiple Facility Ids are associated with each facility state.\n",
    "4. Few columns have more that 50% data missing eg. equipment descrition has 57% while some like sitetype and number of people around 36-35%. \n",
    "   This suggests how we can use those columns and fill in (assume) data for missing ones.\n",
    "5. we also calculated how many sites are associated with each region.\n",
    "6. we also calculated how many equipment descriptions are associated with each region.\n",
    "7. we also calculated how many regions are associated with each facility state.\n",
    "8. Created df by Calculating the missing values per region for each inventory type\n",
    "9. Created df by Calculating the missing values per region for each site type\n",
    "10. What columns are categorical what not categorical\n",
    "11. Created dataframes to calculate the (null,min,max,stdev) for  numerical columns (eg number of people) per region \n",
    "    per inventory type (eg camping)\n",
    "12. Created dataframes and csv files for categorical columns to count the number of eg. site types per region and per inventory type\n",
    "13. Created dataframes and csv files for categorical columns to count the number of eg. facility state per region and per inventory type.\n",
    "14. For our goal of time series forecasting we need to understand how the data is related with the time. eg frequency of data, weekly, \n",
    "    monthly etc. We have order date, start date and end date for bookings in our dataset. I have developed feature by taking difference \n",
    "    between start time and order date and calculated min, max, mean and stdev for the difference value. The mean is suggesting how each \n",
    "    region has a diverse difference in the timelines between there order dates and startdays  eg. Alaska has 20 days while Alaska Region has \n",
    "    about 90 days. Narrowing down this method to only camping in different regions provides a better idea that every region has a difference \n",
    "    in the way orders are made before the actual start date of camp day.\n"
   ]
  }
 ],
 "metadata": {
  "kernelspec": {
   "display_name": "Python 3",
   "language": "python",
   "name": "python3"
  },
  "language_info": {
   "codemirror_mode": {
    "name": "ipython",
    "version": 3
   },
   "file_extension": ".py",
   "mimetype": "text/x-python",
   "name": "python",
   "nbconvert_exporter": "python",
   "pygments_lexer": "ipython3",
   "version": "3.12.6"
  }
 },
 "nbformat": 4,
 "nbformat_minor": 2
}
